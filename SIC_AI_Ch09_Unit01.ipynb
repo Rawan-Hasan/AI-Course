{
 "cells": [
  {
   "cell_type": "markdown",
   "id": "073c7c66",
   "metadata": {},
   "source": [
    "## 1.2. Components of Convolutional Neural Network (CNN)"
   ]
  },
  {
   "cell_type": "code",
   "execution_count": 1,
   "id": "f716eca6",
   "metadata": {},
   "outputs": [
    {
     "name": "stdout",
     "output_type": "stream",
     "text": [
      "TensorFlow version: 2.13.0-rc1\n",
      "Numpy version: 1.24.3\n"
     ]
    }
   ],
   "source": [
    "import tensorflow as tf\n",
    "import numpy as np\n",
    "\n",
    "print('TensorFlow version:', tf.__version__)\n",
    "print('Numpy version:', np.__version__)"
   ]
  },
  {
   "cell_type": "code",
   "execution_count": 2,
   "id": "84ada589",
   "metadata": {},
   "outputs": [
    {
     "name": "stdout",
     "output_type": "stream",
     "text": [
      "Conv1d rendered: [ 5. 14. 16. 26. 24. 34. 19. 22.]\n",
      "Numpy Result: [ 5 14 16 26 24 34 19 22]\n"
     ]
    }
   ],
   "source": [
    "def conv1d(x, w, p=0, s=1):\n",
    "    w_rot = np.array(w[::-1])\n",
    "    x_padded = np.array(x)\n",
    "    if p > 0:\n",
    "        zero_pad = np.zeros(shape=p)\n",
    "        x_padded = np.concatenate(\n",
    "            [zero_pad, x_padded, zero_pad])\n",
    "    res = []\n",
    "    for i in range(0, int((len(x_padded) - len(w_rot)) / s) + 1, s):\n",
    "        res.append(np.sum(\n",
    "            x_padded[i:i+w_rot.shape[0]] * w_rot))\n",
    "    return np.array(res)\n",
    "\n",
    "x = [1, 3, 2, 4, 5, 6, 1, 3]\n",
    "w = [1, 0, 3, 1, 2]\n",
    "\n",
    "print('Conv1d rendered:',\n",
    "      conv1d(x, w, p=2, s=1))\n",
    "\n",
    "print('Numpy Result:',\n",
    "      np.convolve(x, w, mode='same'))"
   ]
  },
  {
   "cell_type": "code",
   "execution_count": 3,
   "id": "c7571de1",
   "metadata": {},
   "outputs": [
    {
     "name": "stdout",
     "output_type": "stream",
     "text": [
      "Rendering Conv2d:\n",
      " [[11. 25. 32. 13.]\n",
      " [19. 25. 24. 13.]\n",
      " [13. 28. 25. 17.]\n",
      " [11. 17. 14.  9.]]\n",
      "scipy results:\n",
      " [[11 25 32 13]\n",
      " [19 25 24 13]\n",
      " [13 28 25 17]\n",
      " [11 17 14  9]]\n"
     ]
    }
   ],
   "source": [
    "import scipy.signal\n",
    "\n",
    "\n",
    "def conv2d(X, W, p=(0, 0), s=(1, 1)):\n",
    "    W_rot = np.array(W)[::-1,::-1]\n",
    "    X_orig = np.array(X)\n",
    "    n1 = X_orig.shape[0] + 2*p[0]\n",
    "    n2 = X_orig.shape[1] + 2*p[1]\n",
    "    X_padded = np.zeros(shape=(n1, n2))\n",
    "    X_padded[p[0]:p[0]+X_orig.shape[0],\n",
    "        p[1]:p[1]+X_orig.shape[1]] = X_orig\n",
    "\n",
    "    res = []\n",
    "    for i in range(0, int((X_padded.shape[0] -\n",
    "                           W_rot.shape[0])/s[0])+1, s[0]):\n",
    "        res.append([])\n",
    "        for j in range(0, int((X_padded.shape[1] -\n",
    "                               W_rot.shape[1])/s[1])+1, s[1]):\n",
    "            X_sub = X_padded[i:i+W_rot.shape[0],\n",
    "                             j:j+W_rot.shape[1]]\n",
    "            res[-1].append(np.sum(X_sub * W_rot))\n",
    "    return np.array(res)\n",
    "\n",
    "X = [[1, 3, 2, 4], [5, 6, 1, 3], [1, 2, 0, 2], [3, 4, 3, 2]]\n",
    "W = [[1, 0, 3], [1, 2, 1], [0, 1, 1]]\n",
    "\n",
    "print('Rendering Conv2d:\\n',\n",
    "       conv2d(X, W, p=(1, 1), s=(1, 1)))\n",
    "\n",
    "print('scipy results:\\n',\n",
    "       scipy.signal.convolve2d(X, W, mode='same'))"
   ]
  },
  {
   "cell_type": "markdown",
   "id": "67e3ff64",
   "metadata": {},
   "source": [
    "## 1.3. Building Deep Convolution Neural Network Using Basic Components"
   ]
  },
  {
   "cell_type": "code",
   "execution_count": 4,
   "id": "d9088839",
   "metadata": {},
   "outputs": [],
   "source": [
    "from tensorflow import keras\n",
    "\n",
    "\n",
    "conv_layer = keras.layers.Conv2D(\n",
    "    filters=16, kernel_size=(3, 3),\n",
    "    kernel_regularizer=keras.regularizers.l2(0.001))\n",
    "\n",
    "fc_layer = keras.layers.Dense(\n",
    "    units=16, kernel_regularizer=keras.regularizers.l2(0.001))"
   ]
  },
  {
   "cell_type": "code",
   "execution_count": 5,
   "id": "1c3bbd64",
   "metadata": {},
   "outputs": [
    {
     "name": "stdout",
     "output_type": "stream",
     "text": [
      "BCE (probability): 0.3711 (logit): 0.3711\n",
      "CCE (probability): 0.5996 (logit): 0.5996\n",
      "Sparse CCE (probability): 0.5996 (logit): 0.5996\n"
     ]
    },
    {
     "name": "stderr",
     "output_type": "stream",
     "text": [
      "/var/folders/zt/d4hf1bc92d5527jl1y_x0drc0000gn/T/ipykernel_96114/418232310.py:25: DeprecationWarning: distutils Version classes are deprecated. Use packaging.version instead.\n",
      "  if Version(tf.__version__) >= '2.3.0':\n"
     ]
    }
   ],
   "source": [
    "from distutils.version import LooseVersion as Version\n",
    "\n",
    "\n",
    "######## Binary cross entropy\n",
    "bce_probas = tf.keras.losses.BinaryCrossentropy(from_logits=False)\n",
    "bce_logits = tf.keras.losses.BinaryCrossentropy(from_logits=True)\n",
    "\n",
    "logits = tf.constant([0.8])\n",
    "probas = tf.keras.activations.sigmoid(logits)\n",
    "\n",
    "tf.print(\n",
    "    'BCE (probability): {:.4f}'.format(\n",
    "     bce_probas(y_true=[1], y_pred=probas)),\n",
    "    '(logit): {:.4f}'.format(\n",
    "     bce_logits(y_true=[1], y_pred=logits)))\n",
    "\n",
    "\n",
    "######## Categorical cross entropy\n",
    "cce_probas = tf.keras.losses.CategoricalCrossentropy(from_logits=False)\n",
    "cce_logits = tf.keras.losses.CategoricalCrossentropy(from_logits=True)\n",
    "\n",
    "logits = tf.constant([[1.5, 0.8, 2.1]])\n",
    "probas = tf.keras.activations.softmax(logits)\n",
    "\n",
    "if Version(tf.__version__) >= '2.3.0':\n",
    "    tf.print(\n",
    "        'CCE (probability): {:.4f}'.format(\n",
    "         cce_probas(y_true=[[0, 0, 1]], y_pred=probas)),\n",
    "        '(logit): {:.4f}'.format(\n",
    "         cce_logits(y_true=[[0, 0, 1]], y_pred=logits)))\n",
    "else:\n",
    "    tf.print(\n",
    "        'CCE (probability): {:.4f}'.format(\n",
    "         cce_probas(y_true=[0, 0, 1], y_pred=probas)),\n",
    "        '(logit): {:.4f}'.format(\n",
    "         cce_logits(y_true=[0, 0, 1], y_pred=logits)))\n",
    "\n",
    "\n",
    "######## Sparse categorical cross entropy\n",
    "sp_cce_probas = tf.keras.losses.SparseCategoricalCrossentropy(from_logits=False)\n",
    "sp_cce_logits = tf.keras.losses.SparseCategoricalCrossentropy(from_logits=True)\n",
    "\n",
    "tf.print(\n",
    "    'Sparse CCE (probability): {:.4f}'.format(\n",
    "     sp_cce_probas(y_true=[2], y_pred=probas)),\n",
    "    '(logit): {:.4f}'.format(\n",
    "     sp_cce_logits(y_true=[2], y_pred=logits)))"
   ]
  },
  {
   "cell_type": "markdown",
   "id": "d2e35c17",
   "metadata": {},
   "source": [
    "## 1.4. Building Convolutional Neural Network using TensorFlow"
   ]
  },
  {
   "cell_type": "code",
   "execution_count": 6,
   "id": "0e89da17",
   "metadata": {},
   "outputs": [],
   "source": [
    "import tensorflow_datasets as tfds\n",
    "import pandas as pd\n",
    "\n",
    "import matplotlib.pyplot as plt"
   ]
  },
  {
   "cell_type": "code",
   "execution_count": 7,
   "id": "7d4f97bb",
   "metadata": {},
   "outputs": [
    {
     "name": "stdout",
     "output_type": "stream",
     "text": [
      "dict_keys(['test', 'train'])\n"
     ]
    }
   ],
   "source": [
    "mnist_bldr = tfds.builder('mnist')\n",
    "mnist_bldr.download_and_prepare()\n",
    "datasets = mnist_bldr.as_dataset(shuffle_files=False)\n",
    "print(datasets.keys())\n",
    "mnist_train_orig, mnist_test_orig = datasets['train'], datasets['test']"
   ]
  },
  {
   "cell_type": "code",
   "execution_count": 8,
   "id": "7ad16eae",
   "metadata": {},
   "outputs": [],
   "source": [
    "BUFFER_SIZE = 10000\n",
    "BATCH_SIZE = 64\n",
    "NUM_EPOCHS = 20"
   ]
  },
  {
   "cell_type": "code",
   "execution_count": 9,
   "id": "f50f9cea",
   "metadata": {},
   "outputs": [],
   "source": [
    "mnist_train = mnist_train_orig.map(\n",
    "    lambda item: (tf.cast(item['image'], tf.float32)/255.0,\n",
    "                  tf.cast(item['label'], tf.int32)))\n",
    "\n",
    "mnist_test = mnist_test_orig.map(\n",
    "    lambda item: (tf.cast(item['image'], tf.float32)/255.0,\n",
    "                  tf.cast(item['label'], tf.int32)))\n",
    "\n",
    "tf.random.set_seed(1)\n",
    "\n",
    "mnist_train = mnist_train.shuffle(buffer_size=BUFFER_SIZE,\n",
    "                                  reshuffle_each_iteration=False)\n",
    "\n",
    "mnist_valid = mnist_train.take(10000).batch(BATCH_SIZE)\n",
    "mnist_train = mnist_train.skip(10000).batch(BATCH_SIZE)"
   ]
  },
  {
   "cell_type": "code",
   "execution_count": 10,
   "id": "a317879d",
   "metadata": {},
   "outputs": [],
   "source": [
    "model = tf.keras.Sequential()\n",
    "\n",
    "model.add(tf.keras.layers.Conv2D(\n",
    "    filters=32, kernel_size=(5, 5),\n",
    "    strides=(1, 1), padding='same',\n",
    "    data_format='channels_last',\n",
    "    name='conv_1', activation='relu'))\n",
    "\n",
    "model.add(tf.keras.layers.MaxPool2D(\n",
    "    pool_size=(2, 2), name='pool_1'))\n",
    "\n",
    "model.add(tf.keras.layers.Conv2D(\n",
    "    filters=64, kernel_size=(5, 5),\n",
    "    strides=(1, 1), padding='same',\n",
    "    name='conv_2', activation='relu'))\n",
    "\n",
    "model.add(tf.keras.layers.MaxPool2D(pool_size=(2, 2), name='pool_2'))"
   ]
  },
  {
   "cell_type": "code",
   "execution_count": 11,
   "id": "69ed9e7a",
   "metadata": {},
   "outputs": [
    {
     "data": {
      "text/plain": [
       "TensorShape([16, 7, 7, 64])"
      ]
     },
     "execution_count": 11,
     "metadata": {},
     "output_type": "execute_result"
    }
   ],
   "source": [
    "model.compute_output_shape(input_shape=(16, 28, 28, 1))"
   ]
  },
  {
   "cell_type": "code",
   "execution_count": 12,
   "id": "5c9b541c",
   "metadata": {},
   "outputs": [
    {
     "data": {
      "text/plain": [
       "TensorShape([16, 3136])"
      ]
     },
     "execution_count": 12,
     "metadata": {},
     "output_type": "execute_result"
    }
   ],
   "source": [
    "model.add(tf.keras.layers.Flatten())\n",
    "\n",
    "model.compute_output_shape(input_shape=(16, 28, 28, 1))"
   ]
  },
  {
   "cell_type": "code",
   "execution_count": 13,
   "id": "344d510a",
   "metadata": {},
   "outputs": [],
   "source": [
    "model.add(tf.keras.layers.Dense(\n",
    "    units=1024, name='fc_1',\n",
    "    activation='relu'))\n",
    "\n",
    "model.add(tf.keras.layers.Dropout(\n",
    "    rate=0.5))\n",
    "\n",
    "model.add(tf.keras.layers.Dense(\n",
    "    units=10, name='fc_2',\n",
    "    activation='softmax'))"
   ]
  },
  {
   "cell_type": "code",
   "execution_count": 14,
   "id": "c5db988a",
   "metadata": {},
   "outputs": [
    {
     "name": "stderr",
     "output_type": "stream",
     "text": [
      "WARNING:absl:At this time, the v2.11+ optimizer `tf.keras.optimizers.Adam` runs slowly on M1/M2 Macs, please use the legacy Keras optimizer instead, located at `tf.keras.optimizers.legacy.Adam`.\n",
      "WARNING:absl:There is a known slowdown when using v2.11+ Keras optimizers on M1/M2 Macs. Falling back to the legacy Keras optimizer, i.e., `tf.keras.optimizers.legacy.Adam`.\n"
     ]
    },
    {
     "name": "stdout",
     "output_type": "stream",
     "text": [
      "Epoch 1/20\n",
      "782/782 [==============================] - 18s 22ms/step - loss: 0.1391 - accuracy: 0.9567 - val_loss: 0.0601 - val_accuracy: 0.9808\n",
      "Epoch 2/20\n",
      "782/782 [==============================] - 18s 23ms/step - loss: 0.0443 - accuracy: 0.9865 - val_loss: 0.0403 - val_accuracy: 0.9884\n",
      "Epoch 3/20\n",
      "782/782 [==============================] - 19s 23ms/step - loss: 0.0311 - accuracy: 0.9901 - val_loss: 0.0384 - val_accuracy: 0.9892\n",
      "Epoch 4/20\n",
      "782/782 [==============================] - 18s 23ms/step - loss: 0.0224 - accuracy: 0.9931 - val_loss: 0.0371 - val_accuracy: 0.9899\n",
      "Epoch 5/20\n",
      "782/782 [==============================] - 19s 24ms/step - loss: 0.0184 - accuracy: 0.9941 - val_loss: 0.0496 - val_accuracy: 0.9885\n",
      "Epoch 6/20\n",
      "782/782 [==============================] - 20s 26ms/step - loss: 0.0143 - accuracy: 0.9954 - val_loss: 0.0421 - val_accuracy: 0.9895\n",
      "Epoch 7/20\n",
      "782/782 [==============================] - 21s 26ms/step - loss: 0.0136 - accuracy: 0.9958 - val_loss: 0.0542 - val_accuracy: 0.9881\n",
      "Epoch 8/20\n",
      "782/782 [==============================] - 21s 26ms/step - loss: 0.0125 - accuracy: 0.9961 - val_loss: 0.0515 - val_accuracy: 0.9894\n",
      "Epoch 9/20\n",
      "782/782 [==============================] - 21s 26ms/step - loss: 0.0108 - accuracy: 0.9962 - val_loss: 0.0548 - val_accuracy: 0.9888\n",
      "Epoch 10/20\n",
      "782/782 [==============================] - 21s 26ms/step - loss: 0.0100 - accuracy: 0.9968 - val_loss: 0.0477 - val_accuracy: 0.9904\n",
      "Epoch 11/20\n",
      "782/782 [==============================] - 21s 27ms/step - loss: 0.0088 - accuracy: 0.9969 - val_loss: 0.0478 - val_accuracy: 0.9906\n",
      "Epoch 12/20\n",
      "782/782 [==============================] - 21s 27ms/step - loss: 0.0083 - accuracy: 0.9975 - val_loss: 0.0527 - val_accuracy: 0.9897\n",
      "Epoch 13/20\n",
      "782/782 [==============================] - 21s 27ms/step - loss: 0.0073 - accuracy: 0.9976 - val_loss: 0.0480 - val_accuracy: 0.9909\n",
      "Epoch 14/20\n",
      "782/782 [==============================] - 21s 27ms/step - loss: 0.0080 - accuracy: 0.9975 - val_loss: 0.0522 - val_accuracy: 0.9905\n",
      "Epoch 15/20\n",
      "782/782 [==============================] - 21s 27ms/step - loss: 0.0064 - accuracy: 0.9979 - val_loss: 0.0621 - val_accuracy: 0.9899\n",
      "Epoch 16/20\n",
      "782/782 [==============================] - 21s 27ms/step - loss: 0.0066 - accuracy: 0.9979 - val_loss: 0.0583 - val_accuracy: 0.9917\n",
      "Epoch 17/20\n",
      "782/782 [==============================] - 22s 28ms/step - loss: 0.0067 - accuracy: 0.9980 - val_loss: 0.0755 - val_accuracy: 0.9898\n",
      "Epoch 18/20\n",
      "782/782 [==============================] - 22s 27ms/step - loss: 0.0073 - accuracy: 0.9979 - val_loss: 0.0632 - val_accuracy: 0.9903\n",
      "Epoch 19/20\n",
      "782/782 [==============================] - 21s 27ms/step - loss: 0.0038 - accuracy: 0.9989 - val_loss: 0.0760 - val_accuracy: 0.9905\n",
      "Epoch 20/20\n",
      "782/782 [==============================] - 22s 28ms/step - loss: 0.0054 - accuracy: 0.9984 - val_loss: 0.0628 - val_accuracy: 0.9913\n"
     ]
    }
   ],
   "source": [
    "model.compile(optimizer=tf.keras.optimizers.Adam(),\n",
    "              loss=tf.keras.losses.SparseCategoricalCrossentropy(),\n",
    "              metrics=['accuracy'])\n",
    "\n",
    "history = model.fit(mnist_train, epochs=NUM_EPOCHS,\n",
    "                    validation_data=mnist_valid,\n",
    "                    shuffle=True)"
   ]
  },
  {
   "cell_type": "code",
   "execution_count": 15,
   "id": "1c2708c4",
   "metadata": {},
   "outputs": [
    {
     "data": {
      "image/png": "[encoded data removed]",
      "text/plain": [
       "<Figure size 1200x400 with 2 Axes>"
      ]
     },
     "metadata": {},
     "output_type": "display_data"
    }
   ],
   "source": [
    "hist = history.history\n",
    "X_arr = np.arange(len(hist['loss'])) + 1\n",
    "\n",
    "fig = plt.figure(figsize=(12, 4))\n",
    "ax = fig.add_subplot(1, 2, 1)\n",
    "ax.plot(X_arr, hist['loss'], '-o', label='Train loss')\n",
    "ax.plot(X_arr, hist['val_loss'], '--<', label='Validation loss')\n",
    "ax.set_xlabel('Epoch', size=15)\n",
    "ax.set_ylabel('Loss', size=15)\n",
    "ax.legend(fontsize=15)\n",
    "ax = fig.add_subplot(1, 2, 2)\n",
    "ax.plot(X_arr, hist['accuracy'], '-o', label='Train acc')\n",
    "ax.plot(X_arr, hist['val_accuracy'], '--<', label='Validation acc')\n",
    "ax.set_xlabel('Epoch', size=15)\n",
    "ax.set_ylabel('Loss', size=15)\n",
    "ax.legend(fontsize=15)\n",
    "\n",
    "plt.show()"
   ]
  },
  {
   "cell_type": "code",
   "execution_count": 16,
   "id": "c3c4f0c7",
   "metadata": {},
   "outputs": [
    {
     "name": "stdout",
     "output_type": "stream",
     "text": [
      "500/500 [==============================] - 3s 6ms/step - loss: 0.0454 - accuracy: 0.9928\n",
      "\n",
      " test accuracy 99.28%\n"
     ]
    }
   ],
   "source": [
    "test_results = model.evaluate(mnist_test.batch(20))\n",
    "print('\\n test accuracy {:.2f}%'.format(test_results[1]*100))"
   ]
  },
  {
   "cell_type": "code",
   "execution_count": 17,
   "id": "66d1a363",
   "metadata": {},
   "outputs": [
    {
     "name": "stdout",
     "output_type": "stream",
     "text": [
      "TensorShape([12, 10])\n",
      "tf.Tensor([2 0 4 8 7 6 0 6 3 1 8 0], shape=(12,), dtype=int64)\n"
     ]
    },
    {
     "data": {
      "image/png": "[encoded data removed]",
      "text/plain": [
       "<Figure size 1200x400 with 12 Axes>"
      ]
     },
     "metadata": {},
     "output_type": "display_data"
    }
   ],
   "source": [
    "batch_test = next(iter(mnist_test.batch(12)))\n",
    "\n",
    "preds = model(batch_test[0])\n",
    "\n",
    "tf.print(preds.shape)\n",
    "preds = tf.argmax(preds, axis=1)\n",
    "print(preds)\n",
    "\n",
    "fig = plt.figure(figsize=(12, 4))\n",
    "for i in range(12):\n",
    "    ax = fig.add_subplot(2, 6, i+1)\n",
    "    ax.set_xticks([]), ax.set_yticks([])\n",
    "    img = batch_test[0][i, :, :, 0]\n",
    "    ax.imshow(img, cmap='gray_r')\n",
    "    ax.text(0.9, 0.1, '{}'.format(preds[i]),\n",
    "            size=15, color='blue',\n",
    "            horizontalalignment='center',\n",
    "            verticalalignment='center',\n",
    "            transform=ax.transAxes)\n",
    "\n",
    "plt.show()"
   ]
  },
  {
   "cell_type": "code",
   "execution_count": 18,
   "id": "15f6445c",
   "metadata": {},
   "outputs": [
    {
     "name": "stderr",
     "output_type": "stream",
     "text": [
      "/Users/cchyun/miniconda3/envs/emcast/lib/python3.10/site-packages/keras/src/engine/training.py:3000: UserWarning: You are saving your model as an HDF5 file via `model.save()`. This file format is considered legacy. We recommend using instead the native Keras format, e.g. `model.save('my_model.keras')`.\n",
      "  saving_api.save_model(\n"
     ]
    }
   ],
   "source": [
    "import os\n",
    "\n",
    "if not os.path.exists('models'):\n",
    "    os.mkdir('models')\n",
    "\n",
    "model.save('models/mnist-cnn.h5')"
   ]
  },
  {
   "cell_type": "code",
   "execution_count": null,
   "id": "d4c23651",
   "metadata": {},
   "outputs": [],
   "source": []
  }
 ],
 "metadata": {
  "kernelspec": {
   "display_name": "Python 3 (ipykernel)",
   "language": "python",
   "name": "python3"
  },
  "language_info": {
   "codemirror_mode": {
    "name": "ipython",
    "version": 3
   },
   "file_extension": ".py",
   "mimetype": "text/x-python",
   "name": "python",
   "nbconvert_exporter": "python",
   "pygments_lexer": "ipython3",
   "version": "3.10.11"
  }
 },
 "nbformat": 4,
 "nbformat_minor": 5
}
